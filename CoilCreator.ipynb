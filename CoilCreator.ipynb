{
 "cells": [
  {
   "cell_type": "markdown",
   "id": "004a3e88",
   "metadata": {},
   "source": [
    "# Magnetic Field Shaping via Helmholtz Coils"
   ]
  },
  {
   "cell_type": "code",
   "execution_count": 2,
   "id": "231203f0",
   "metadata": {
    "ExecuteTime": {
     "end_time": "2022-10-23T21:19:01.599877Z",
     "start_time": "2022-10-23T21:19:00.538594Z"
    }
   },
   "outputs": [],
   "source": [
    "import numpy as np\n",
    "import magpylib as magpy\n",
    "import matplotlib.pyplot as plt\n",
    "from scipy.spatial.transform import Rotation as R"
   ]
  },
  {
   "cell_type": "markdown",
   "id": "19da8bc4",
   "metadata": {},
   "source": [
    "### Create a pair of coils in the anti-Helmholtz configuration along the x-axis and y-axis."
   ]
  },
  {
   "cell_type": "code",
   "execution_count": 3,
   "id": "0d5bd6e3",
   "metadata": {
    "ExecuteTime": {
     "end_time": "2022-10-23T21:19:01.615870Z",
     "start_time": "2022-10-23T21:19:01.604384Z"
    }
   },
   "outputs": [],
   "source": [
    "# Helmholtz coil pair along the x-axis and the y-axis.\n",
    "# diam [mm]\n",
    "# position [mm]\n",
    "# current [A]\n",
    "\n",
    "def coil_pair_x(winds, dist, diam, curr, width, anti):\n",
    "    for x in np.linspace(-winds*width/2, winds*width/2, winds):\n",
    "        w1 = magpy.current.Loop(\n",
    "            current=curr,\n",
    "            diameter=diam,\n",
    "            position=(dist,0,0),\n",
    "            orientation= R.from_euler('y', 90, degrees=True)\n",
    "        )\n",
    "\n",
    "    for x in np.linspace(-winds*width/2, winds*width/2, winds):\n",
    "        w2 = magpy.current.Loop(\n",
    "            current=anti*curr,\n",
    "            diameter=diam,\n",
    "            position=(-dist,0,0),\n",
    "            orientation= R.from_euler('y', 90, degrees=True)\n",
    "        )\n",
    "\n",
    "    return w1, w2\n",
    "\n",
    "def coil_pair_y(winds, dist, diam, curr, width, anti):\n",
    "    for y in np.linspace(-winds*width/2, winds*width/2, winds):\n",
    "        w1 = magpy.current.Loop(\n",
    "            current=curr,\n",
    "            diameter=diam,\n",
    "            position=(0,dist,0),\n",
    "            orientation= R.from_euler('x', 90, degrees=True)\n",
    "        )\n",
    "\n",
    "    for y in np.linspace(-winds*width/2, winds*width/2, winds):\n",
    "        w2 = magpy.current.Loop(\n",
    "            current=anti*curr,\n",
    "            diameter=diam,\n",
    "            position=(0,-dist,0),\n",
    "            orientation= R.from_euler('x', 90, degrees=True)\n",
    "        )\n",
    "\n",
    "    return w1, w2"
   ]
  },
  {
   "cell_type": "markdown",
   "id": "55c70b88",
   "metadata": {},
   "source": [
    "### Create two pairs of coils for 2D MOT magnetic field."
   ]
  },
  {
   "cell_type": "code",
   "execution_count": 7,
   "id": "1f722011",
   "metadata": {
    "ExecuteTime": {
     "end_time": "2022-11-03T21:38:05.563837Z",
     "start_time": "2022-11-03T21:38:05.557538Z"
    },
    "scrolled": false
   },
   "outputs": [],
   "source": [
    "def makeQuadCoil(winds, dist, diam, curr, width, anti):\n",
    "    quad = magpy.Collection()\n",
    "    w1, w2 = coil_pair_x(winds, dist, diam, curr, width, anti)\n",
    "    quad.add(w1)\n",
    "    quad.add(w2)\n",
    "    w3, w4 = coil_pair_y(winds, dist, diam, curr, width, anti)\n",
    "    quad.add(w3)\n",
    "    quad.add(w4)\n",
    "    return quad"
   ]
  },
  {
   "cell_type": "code",
   "execution_count": null,
   "id": "9e8f0d7c",
   "metadata": {
    "ExecuteTime": {
     "end_time": "2022-10-13T20:58:38.890870Z",
     "start_time": "2022-10-13T20:58:38.882625Z"
    }
   },
   "outputs": [],
   "source": []
  },
  {
   "cell_type": "markdown",
   "id": "3650c319",
   "metadata": {},
   "source": [
    "### Streamplots + Heatmap for B-field"
   ]
  },
  {
   "cell_type": "code",
   "execution_count": 9,
   "id": "6a924cdf",
   "metadata": {
    "ExecuteTime": {
     "end_time": "2022-11-03T21:42:32.104920Z",
     "start_time": "2022-11-03T21:42:32.082988Z"
    }
   },
   "outputs": [],
   "source": [
    "def plot_mag_field_xy(coil1, z=0):\n",
    "    fig, axs = plt.subplots(1, 1, figsize=(13,5))\n",
    "    \n",
    "    # create grid\n",
    "    ts = np.linspace(-20, 20, 20)\n",
    "    grid = np.array([[(x,y,z) for x in ts] for y in ts])\n",
    "    \n",
    "    # compute and plot field of coil2\n",
    "    B = magpy.getB(coil1, grid)\n",
    "    Bamp = np.linalg.norm(B, axis=2) * 10\n",
    "    \n",
    "    cp = axs.contourf(\n",
    "        grid[:,:,0], grid[:,:,1], Bamp,\n",
    "        levels=100,\n",
    "        cmap='coolwarm',\n",
    "    )\n",
    "    axs.streamplot(\n",
    "        grid[:,:,0], grid[:,:,1], B[:,:,0], B[:,:,1],\n",
    "        density=2,\n",
    "        color='black',\n",
    "    )\n",
    "    axs.set(\n",
    "        title='Magnetic field of coil, z = '+str(z),\n",
    "        xlabel='x-position [mm]',\n",
    "        ylabel='y-position [mm]',\n",
    "        aspect=1,\n",
    "    )\n",
    "    plt.colorbar(cp, ax=axs, label='[G]')\n",
    "    plt.tight_layout()\n",
    "    plt.show()\n",
    "\n",
    "def plot_mag_field_xz(coil1, y=0):\n",
    "    fig, axs = plt.subplots(1, 1, figsize=(13,5))\n",
    "    \n",
    "    # create grid\n",
    "    ts = np.linspace(-20, 20, 20)\n",
    "    zts = np.linspace(-50, 50, 100)\n",
    "    grid = np.array([[(x,y,z) for x in ts] for z in zts])\n",
    "    \n",
    "    # compute and plot field of coil2\n",
    "    B = magpy.getB(coil1, grid)\n",
    "    Bamp = np.linalg.norm(B, axis=2) * 10\n",
    "    \n",
    "    cp = axs.contourf(\n",
    "        grid[:,:,0], grid[:,:,2], Bamp,\n",
    "        levels=100,\n",
    "        cmap='coolwarm',\n",
    "    )\n",
    "    axs.streamplot(\n",
    "        grid[:,:,0], grid[:,:,2], B[:,:,0], B[:,:,2],\n",
    "        density=2,\n",
    "        color='black',\n",
    "    )\n",
    "    axs.set(\n",
    "        title='Magnetic field of coil',\n",
    "        xlabel='x-position [mm]',\n",
    "        ylabel='z-position [mm]',\n",
    "        aspect=1,\n",
    "    )\n",
    "    plt.colorbar(cp, ax=axs, label='[G]')\n",
    "    plt.tight_layout()\n",
    "    plt.show()"
   ]
  },
  {
   "cell_type": "markdown",
   "id": "11f2c8c5",
   "metadata": {},
   "source": [
    "### Heatmap of B-field magnitude"
   ]
  },
  {
   "cell_type": "code",
   "execution_count": 2,
   "id": "28553e6e",
   "metadata": {
    "ExecuteTime": {
     "end_time": "2022-11-03T20:33:02.116215Z",
     "start_time": "2022-11-03T20:33:01.966497Z"
    }
   },
   "outputs": [],
   "source": [
    "def plot_mag_amp_line(coil1,z):\n",
    "    fig, axs = plt.subplots(1, 1, figsize=(13,5))\n",
    "    ts = np.linspace(-20, 20, 40)\n",
    "    grid = np.array([(x,0,z) for x in ts])\n",
    "    # compute and plot field of coil2\n",
    "    B = magpy.getB(coil1, grid)\n",
    "    Bamp = np.linalg.norm(B, axis=1) * 10 # in Gauss\n",
    "    axs.plot(grid[:,0],Bamp)\n",
    "    axs.set(\n",
    "        title='Magnetic field of coil',\n",
    "        xlabel='x-position [mm]',\n",
    "        ylabel='B_x amplitude [G]',\n",
    "    )\n",
    "    plt.tight_layout()\n",
    "    plt.show()\n",
    "    \n",
    "def plot_amp_xz(coil1, y):\n",
    "    fig, axs = plt.subplots(1, 1, figsize=(13,5))\n",
    "    \n",
    "    # create grid\n",
    "    ts = np.linspace(-5, 5, 40)\n",
    "    zts = np.linspace(-50, 50, 100)\n",
    "    grid = np.array([[(x,y,z) for x in ts] for z in zts])\n",
    "    \n",
    "    # compute and plot field of coil2\n",
    "    B = magpy.getB(coil1, grid)\n",
    "    Bamp = np.linalg.norm(B, axis=2)\n",
    "    \n",
    "    cp = axs.contourf(\n",
    "        grid[:,:,0], grid[:,:,2], Bamp * 10,\n",
    "        levels=100,\n",
    "        cmap='coolwarm',\n",
    "    )\n",
    "    axs.set(\n",
    "        title='Magnetic Field Amplitude, y = '+str(y),\n",
    "        xlabel='x-position [mm]',\n",
    "        ylabel='z-position [mm]',\n",
    "        aspect=1,\n",
    "    )\n",
    "    plt.colorbar(cp, ax=axs, label='G')\n",
    "    plt.tight_layout()\n",
    "    plt.show()\n",
    "    \n",
    "def plot_amp_yz(coil1, x):\n",
    "    fig, axs = plt.subplots(1, 1, figsize=(13,5))\n",
    "    \n",
    "    # create grid\n",
    "    ts = np.linspace(-20, 20, 40)\n",
    "    zts = np.linspace(-50, 50, 100)\n",
    "    grid = np.array([[(x,y,z) for y in ts] for z in zts])\n",
    "    \n",
    "    # compute and plot field of coil2\n",
    "    B = magpy.getB(coil1, grid)\n",
    "    Bamp = np.linalg.norm(B, axis=2) # mT\n",
    "    \n",
    "    cp = axs.contourf(\n",
    "        grid[:,:,1], grid[:,:,2], Bamp * 10,\n",
    "        levels=100,\n",
    "        cmap='coolwarm',\n",
    "    )\n",
    "    axs.set(\n",
    "        title='Magnetic Field Amplitude, x = '+str(x),\n",
    "        xlabel='y-position [mm]',\n",
    "        ylabel='z-position [mm]',\n",
    "        aspect=1,\n",
    "    )\n",
    "    plt.colorbar(cp, ax=axs, label='G')\n",
    "    plt.tight_layout()\n",
    "    plt.show()\n",
    "    \n",
    "    \n",
    "def plot_amp_xy(coil1, z):\n",
    "    fig, axs = plt.subplots(1, 1, figsize=(13,5))\n",
    "    \n",
    "    # create grid\n",
    "    ts = np.linspace(-20, 20, 40)\n",
    "    grid = np.array([[(x,y,z) for x in ts] for y in ts])\n",
    "    \n",
    "    # compute and plot field of coil2\n",
    "    B = magpy.getB(coil1, grid)\n",
    "    Bamp = np.linalg.norm(B, axis=2) # mT\n",
    "    \n",
    "    cp = axs.contourf(\n",
    "        grid[:,:,0], grid[:,:,1], Bamp * 10,\n",
    "        levels=100,\n",
    "        cmap='coolwarm',\n",
    "    )\n",
    "    axs.set(\n",
    "        title='Magnetic Field Amplitude, z = '+str(z),\n",
    "        xlabel='x-position [mm]',\n",
    "        ylabel='y-position [mm]',\n",
    "        aspect=1,\n",
    "    )\n",
    "    plt.colorbar(cp, ax=axs, label='G')\n",
    "    plt.tight_layout()\n",
    "    plt.show()"
   ]
  },
  {
   "cell_type": "markdown",
   "id": "d365c541",
   "metadata": {},
   "source": [
    "### Heatmap of B-field gradient"
   ]
  },
  {
   "cell_type": "code",
   "execution_count": 7,
   "id": "6cd3ce2a",
   "metadata": {
    "ExecuteTime": {
     "end_time": "2022-10-23T21:19:02.925950Z",
     "start_time": "2022-10-23T21:19:02.916016Z"
    }
   },
   "outputs": [],
   "source": [
    "def plot_grad_xy(coil1, z):\n",
    "    fig, axs = plt.subplots(1, 1, figsize=(13,5))\n",
    "    \n",
    "    # create grid\n",
    "    ts = np.linspace(-20, 20, 40)\n",
    "    grid = np.array([[(x,y,z) for x in ts] for y in ts])\n",
    "    \n",
    "    # compute and plot field of coil2\n",
    "    B = magpy.getB(coil1, grid)\n",
    "    Bamp = np.linalg.norm(B, axis=2) * 10 # G\n",
    "    \n",
    "    cp = axs.contourf(\n",
    "        grid[:,:,0], grid[:,:,1], np.linalg.norm(np.gradient(Bamp),axis=0) * 10,\n",
    "        levels=100,\n",
    "        cmap='coolwarm',\n",
    "    )\n",
    "    axs.set(\n",
    "        title='Magnetic Field Gradient',\n",
    "        xlabel='x-position [mm]',\n",
    "        ylabel='y-position [mm]',\n",
    "        aspect=1,\n",
    "    )\n",
    "    plt.colorbar(cp, ax=axs, label='[G/cm]')\n",
    "    plt.tight_layout()\n",
    "    plt.show()"
   ]
  },
  {
   "cell_type": "markdown",
   "id": "dcd461b4",
   "metadata": {
    "ExecuteTime": {
     "end_time": "2022-10-13T19:49:25.992410Z",
     "start_time": "2022-10-13T19:49:23.201643Z"
    },
    "scrolled": false
   },
   "source": [
    "# Make the B-field"
   ]
  },
  {
   "cell_type": "code",
   "execution_count": 11,
   "id": "620c5659",
   "metadata": {
    "ExecuteTime": {
     "end_time": "2022-10-23T21:19:37.338290Z",
     "start_time": "2022-10-23T21:19:37.332589Z"
    },
    "scrolled": false
   },
   "outputs": [],
   "source": [
    "#quadcoil = makeQuadCoil(winds = 10, dist = 50, diam = 100, curr = 300, width = 1, anti = -1)\n",
    "\n",
    "#quadcoil.describe()\n",
    "\n",
    "#quadcoil.show()\n",
    "\n",
    "\n",
    "def describeCoil(quadcoil):\n",
    "    # Stream plot\n",
    "    plot_mag_field_xy(quadcoil)\n",
    "    plot_mag_field_xz(quadcoil, y = 0)\n",
    "\n",
    "    # xz plane,\n",
    "    plot_amp_xz(quadcoil, y=0)\n",
    "\n",
    "    # xy plane, z=z\n",
    "    plot_amp_xy(quadcoil, z=0)\n",
    "\n",
    "    # yz plane, z=z\n",
    "    plot_amp_yz(quadcoil, x=0)\n",
    "\n",
    "    # Gradient in xy plane\n",
    "    plot_grad_xy(quadcoil, z=0)\n",
    "\n",
    "    # amplitude\n",
    "    #plot_mag_amp_line(quadcoil, z=0)"
   ]
  },
  {
   "cell_type": "code",
   "execution_count": null,
   "id": "726ae949",
   "metadata": {
    "ExecuteTime": {
     "end_time": "2022-10-13T21:10:18.552920Z",
     "start_time": "2022-10-13T21:10:18.539181Z"
    }
   },
   "outputs": [],
   "source": []
  },
  {
   "cell_type": "code",
   "execution_count": null,
   "id": "5c494a08",
   "metadata": {
    "ExecuteTime": {
     "end_time": "2022-10-13T18:49:45.199264Z",
     "start_time": "2022-10-13T18:49:43.989454Z"
    }
   },
   "outputs": [],
   "source": []
  },
  {
   "cell_type": "code",
   "execution_count": null,
   "id": "a2ab19bb",
   "metadata": {
    "ExecuteTime": {
     "end_time": "2022-10-13T18:49:45.322874Z",
     "start_time": "2022-10-13T18:49:45.305681Z"
    }
   },
   "outputs": [],
   "source": []
  },
  {
   "cell_type": "code",
   "execution_count": null,
   "id": "391b5121",
   "metadata": {
    "ExecuteTime": {
     "end_time": "2022-10-13T18:49:47.510813Z",
     "start_time": "2022-10-13T18:49:45.350273Z"
    }
   },
   "outputs": [],
   "source": []
  },
  {
   "cell_type": "code",
   "execution_count": null,
   "id": "4312f6ba",
   "metadata": {
    "ExecuteTime": {
     "end_time": "2022-10-13T18:49:48.910430Z",
     "start_time": "2022-10-13T18:49:47.575630Z"
    }
   },
   "outputs": [],
   "source": []
  },
  {
   "cell_type": "code",
   "execution_count": null,
   "id": "ed1d01d2",
   "metadata": {
    "ExecuteTime": {
     "end_time": "2022-10-13T18:35:23.766476Z",
     "start_time": "2022-10-13T18:35:23.704713Z"
    }
   },
   "outputs": [],
   "source": []
  },
  {
   "cell_type": "code",
   "execution_count": null,
   "id": "61255366",
   "metadata": {},
   "outputs": [],
   "source": []
  }
 ],
 "metadata": {
  "kernelspec": {
   "display_name": "p37",
   "language": "python",
   "name": "p37"
  },
  "language_info": {
   "codemirror_mode": {
    "name": "ipython",
    "version": 3
   },
   "file_extension": ".py",
   "mimetype": "text/x-python",
   "name": "python",
   "nbconvert_exporter": "python",
   "pygments_lexer": "ipython3",
   "version": "3.7.13"
  }
 },
 "nbformat": 4,
 "nbformat_minor": 5
}
